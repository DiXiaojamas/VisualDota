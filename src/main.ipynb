{
  "cells": [
    {
      "cell_type": "markdown",
      "metadata": {
        "id": "view-in-github",
        "colab_type": "text"
      },
      "source": [
        "<a href=\"https://colab.research.google.com/github/UoR-Vision/VisualDota/blob/main/src/main.ipynb\" target=\"_parent\"><img src=\"https://colab.research.google.com/assets/colab-badge.svg\" alt=\"Open In Colab\"/></a>"
      ]
    },
    {
      "cell_type": "raw",
      "id": "6b21c1234e2df588",
      "metadata": {
        "collapsed": false,
        "id": "6b21c1234e2df588",
        "jupyter": {
          "outputs_hidden": false
        }
      },
      "source": [
        "Module Code:  CSMA21\n",
        "\n",
        "Assignment report Title: Group coursework\n",
        "\n",
        "Date (when the work completed):\n",
        "\n",
        "Actual hrs spent for the assignment:"
      ]
    },
    {
      "cell_type": "markdown",
      "id": "C3IMFqsWmI85",
      "metadata": {
        "id": "C3IMFqsWmI85"
      },
      "source": [
        "# Environment Setting"
      ]
    },
    {
      "cell_type": "markdown",
      "id": "-_V307WVj3zz",
      "metadata": {
        "id": "-_V307WVj3zz"
      },
      "source": [
        "***\n",
        "<a id=\"colab\"></a>\n",
        "## Adapting to the Colab Operating Environment\n",
        "\n",
        "In Colab environment, it is neccessary to download the whole project from Github."
      ]
    },
    {
      "cell_type": "code",
      "execution_count": null,
      "id": "WgPXbYDBj_u-",
      "metadata": {
        "colab": {
          "base_uri": "https://localhost:8080/"
        },
        "id": "WgPXbYDBj_u-",
        "outputId": "da26df64-8634-44ec-be71-8e8542bbc9af"
      },
      "outputs": [
        {
          "name": "stdout",
          "output_type": "stream",
          "text": [
            "Not running in Colab.\n"
          ]
        }
      ],
      "source": [
        "def is_colab():\n",
        "    try:\n",
        "        import google.colab\n",
        "        return True\n",
        "    except ImportError:\n",
        "        return False\n",
        "\n",
        "if is_colab():\n",
        "    print(\"Running in Google Colab!\")\n",
        "    !git clone https://github.com/UoR-Vision/VisualDota.git -b main\n",
        "    %cd VisualDota/src\n",
        "    from google.colab import drive\n",
        "    drive.mount('/content/drive')\n",
        "    DATASET_ROOT_DIR = '/content/drive/MyDrive/VisualDota/DOTA'\n",
        "    MODEL_ROOT_DIR = '/content/drive/MyDrive/VisualDota/models'\n",
        "else:\n",
        "    print(\"Not running in Colab.\")\n",
        "    DATASET_ROOT_DIR = './data'\n",
        "    MODEL_ROOT_DIR = '../models'"
      ]
    },
    {
      "cell_type": "markdown",
      "id": "37ad3286b62586b",
      "metadata": {
        "collapsed": false,
        "id": "37ad3286b62586b",
        "jupyter": {
          "outputs_hidden": false
        }
      },
      "source": [
        "***\n",
        "<a id=\"hotload\"></a>\n",
        "## Hot Loading .py File\n",
        "\n",
        "Here is to import custom .py file. It can be hot-loaded, just re-run the following cell.\n",
        "\n",
        "Documentation comments are provided for each public function. To check the comments please use the help() function."
      ]
    },
    {
      "cell_type": "code",
      "execution_count": null,
      "id": "1c0018c8-e5af-4ad4-9856-30f259c82bcd",
      "metadata": {
        "id": "1c0018c8-e5af-4ad4-9856-30f259c82bcd"
      },
      "outputs": [],
      "source": [
        "try:\n",
        "    import importlib\n",
        "except:\n",
        "    !pip install importlib\n",
        "    import importlib"
      ]
    },
    {
      "cell_type": "code",
      "execution_count": null,
      "id": "f66f6ad8b458fed7",
      "metadata": {
        "ExecuteTime": {
          "end_time": "2025-04-01T15:16:04.713470300Z",
          "start_time": "2025-04-01T15:16:04.704076300Z"
        },
        "id": "f66f6ad8b458fed7",
        "jupyter": {
          "outputs_hidden": false
        }
      },
      "outputs": [],
      "source": [
        "try:\n",
        "    import data_loader # import data loader for data training\n",
        "    import data_process  # import data_process for data pre-processing\n",
        "    import modeling_faster_rcnn # import faster-rcnn model\n",
        "    import visual_utils  # import visual utils for visualization\n",
        "\n",
        "except ModuleNotFoundError as e:\n",
        "    print(f'[ERROR] fail to import a custom module at path: {os.path.abspath(\".\")}, msg: {e}.')\n",
        "except Exception as e:\n",
        "    print(f'[ERROR] fail to read module at path: {os.path.abspath(\".\")}, msg: {e}')\n",
        "else:\n",
        "    # Hot loading python files\n",
        "    importlib.reload(data_loader)\n",
        "    importlib.reload(data_process)\n",
        "    importlib.reload(modeling_faster_rcnn)\n",
        "    importlib.reload(visual_utils)"
      ]
    },
    {
      "cell_type": "markdown",
      "id": "bc841ed043ba5470",
      "metadata": {
        "collapsed": false,
        "id": "bc841ed043ba5470",
        "jupyter": {
          "outputs_hidden": false
        }
      },
      "source": [
        "***\n",
        "<a id=\"import\"></a>\n",
        "## Import libraries\n",
        "\n",
        "To import the required libraries for whole project."
      ]
    },
    {
      "cell_type": "code",
      "execution_count": null,
      "id": "ae09c6165ced97ec",
      "metadata": {
        "ExecuteTime": {
          "end_time": "2025-04-01T15:14:34.624413600Z",
          "start_time": "2025-04-01T15:14:34.245560900Z"
        },
        "colab": {
          "base_uri": "https://localhost:8080/"
        },
        "id": "ae09c6165ced97ec",
        "jupyter": {
          "outputs_hidden": false
        },
        "outputId": "bc7eade6-6daf-49cb-be8b-b8f7318bee37"
      },
      "outputs": [
        {
          "name": "stdout",
          "output_type": "stream",
          "text": [
            "matplotlib: 3.9.0, numpy: 2.1.1\n"
          ]
        }
      ],
      "source": [
        "# import the build-in required libraries\n",
        "import os\n",
        "import warnings\n",
        "\n",
        "# import the third-part required libraries\n",
        "import matplotlib\n",
        "import matplotlib.pyplot as plt\n",
        "import numpy as np\n",
        "import pandas as pd\n",
        "from collections import Counter\n",
        "from zipfile import ZipFile\n",
        "from collections import defaultdict\n",
        "\n",
        "# check the versions of third-part libraries\n",
        "print(f'matplotlib: {matplotlib.__version__}, numpy: {np.__version__}')"
      ]
    },
    {
      "cell_type": "markdown",
      "id": "e0ca65af54083cdc",
      "metadata": {
        "collapsed": false,
        "id": "e0ca65af54083cdc",
        "jupyter": {
          "outputs_hidden": false
        }
      },
      "source": [
        "# 2 Data Selection & Preprocessing"
      ]
    },
    {
      "cell_type": "code",
      "execution_count": null,
      "id": "xWiLtK_zcWXw",
      "metadata": {
        "id": "xWiLtK_zcWXw"
      },
      "outputs": [],
      "source": []
    },
    {
      "cell_type": "markdown",
      "id": "fbc146af876d922b",
      "metadata": {
        "collapsed": false,
        "id": "fbc146af876d922b",
        "jupyter": {
          "outputs_hidden": false
        }
      },
      "source": [
        "## Load Dataset"
      ]
    },
    {
      "cell_type": "code",
      "execution_count": null,
      "id": "1852e7c96b7288f1",
      "metadata": {
        "ExecuteTime": {
          "end_time": "2025-04-01T15:18:20.879936800Z",
          "start_time": "2025-04-01T15:18:19.722733700Z"
        },
        "id": "1852e7c96b7288f1",
        "jupyter": {
          "outputs_hidden": false
        },
        "scrolled": true
      },
      "outputs": [],
      "source": [
        "dataset = data_process.load_dataset()\n",
        "len(dataset)"
      ]
    },
    {
      "cell_type": "code",
      "execution_count": null,
      "id": "c767d757e795e552",
      "metadata": {
        "ExecuteTime": {
          "start_time": "2025-04-01T15:18:50.581776900Z"
        },
        "id": "c767d757e795e552",
        "is_executing": true,
        "jupyter": {
          "outputs_hidden": false
        }
      },
      "outputs": [],
      "source": [
        "visual_utils.visualize_images(dataset)"
      ]
    },
    {
      "cell_type": "code",
      "execution_count": null,
      "id": "713a1c38ece97b7c",
      "metadata": {
        "ExecuteTime": {
          "end_time": "2025-04-01T15:18:27.856630300Z",
          "start_time": "2025-04-01T15:18:27.839810800Z"
        },
        "id": "713a1c38ece97b7c",
        "jupyter": {
          "outputs_hidden": false
        }
      },
      "outputs": [],
      "source": [
        "labels = data_process.count_labels()\n",
        "labels"
      ]
    },
    {
      "cell_type": "markdown",
      "id": "PUV2v_YRWLDR",
      "metadata": {
        "id": "PUV2v_YRWLDR"
      },
      "source": [
        "# 3 Exploratory data analysis"
      ]
    },
    {
      "cell_type": "markdown",
      "id": "PqS5O9mcqM6s",
      "metadata": {
        "id": "PqS5O9mcqM6s",
        "jp-MarkdownHeadingCollapsed": true
      },
      "source": [
        "## 3.1 Object Category Distribution"
      ]
    },
    {
      "cell_type": "code",
      "execution_count": null,
      "id": "zWy8ZXudqR4w",
      "metadata": {
        "id": "zWy8ZXudqR4w"
      },
      "outputs": [],
      "source": [
        "zip_path = os.path.abspath(\"./data/labelTxt.zip\")\n",
        "\n",
        "category_counts = Counter()\n",
        "\n",
        "with ZipFile(zip_path, 'r') as zip_file:\n",
        "    for file_name in zip_file.namelist():\n",
        "        if file_name.endswith('.txt'):\n",
        "            with zip_file.open(file_name) as file:\n",
        "                for line in file:\n",
        "                    try:\n",
        "                        parts = line.decode('utf-8').strip().split()\n",
        "                        if len(parts) >= 10:\n",
        "                            category = parts[8].strip()\n",
        "                            category_counts[category] += 1\n",
        "                    except Exception as e:\n",
        "                        print(f\"[ERROR] {file_name}: {e}\")\n",
        "\n",
        "# Convert to DataFrame\n",
        "df_counts = pd.DataFrame(category_counts.items(), columns=[\"Category\", \"Count\"])\n",
        "df_counts = df_counts.sort_values(by=\"Count\", ascending=False)"
      ]
    },
    {
      "cell_type": "code",
      "execution_count": null,
      "id": "AEZwJgeT0N5G",
      "metadata": {
        "id": "AEZwJgeT0N5G"
      },
      "outputs": [],
      "source": [
        "# Parameters\n",
        "top_n = 6  # how many categories to show individually\n",
        "colors = plt.cm.tab20.colors  # colorful palette\n",
        "\n",
        "# Group small categories as 'Other'\n",
        "df_counts_top = df_counts.head(top_n).copy()\n",
        "other = df_counts.iloc[top_n:][\"Count\"].sum()\n",
        "df_counts_top.loc[len(df_counts_top)] = [\"Other\", other]\n",
        "\n",
        "# Create labels and data\n",
        "labels = df_counts_top[\"Category\"]\n",
        "sizes = df_counts_top[\"Count\"]\n",
        "\n",
        "# Explode top 3 slightly\n",
        "explode = [0.08 if i < 3 else 0 for i in range(len(sizes))]\n",
        "\n",
        "# Plot\n",
        "plt.figure(figsize=(10, 8))\n",
        "plt.pie(\n",
        "    sizes,\n",
        "    labels=labels,\n",
        "    autopct=\"%1.1f%%\",\n",
        "    startangle=140,\n",
        "    explode=explode,\n",
        "    colors=colors[:len(sizes)],\n",
        "    textprops={'fontsize': 12}\n",
        ")\n",
        "plt.title(\"Object Category Distribution\", fontsize=16)\n",
        "plt.axis(\"equal\")\n",
        "plt.tight_layout()\n",
        "plt.show()"
      ]
    },
    {
      "cell_type": "markdown",
      "id": "2jmbMWKH5_So",
      "metadata": {
        "id": "2jmbMWKH5_So",
        "jp-MarkdownHeadingCollapsed": true
      },
      "source": [
        "## 3.2 Percentage of Difficult Annotations Per Category"
      ]
    },
    {
      "cell_type": "code",
      "execution_count": null,
      "id": "VdLJ6wg76NU5",
      "metadata": {
        "id": "VdLJ6wg76NU5"
      },
      "outputs": [],
      "source": [
        "# Initialize counters\n",
        "category_total = defaultdict(int)\n",
        "category_difficult = defaultdict(int)\n",
        "\n",
        "# Parse the zip\n",
        "with ZipFile(zip_path, 'r') as zip_file:\n",
        "    for file_name in zip_file.namelist():\n",
        "        if file_name.endswith('.txt'):\n",
        "            with zip_file.open(file_name) as file:\n",
        "                for line in file:\n",
        "                    try:\n",
        "                        parts = line.decode('utf-8').strip().split()\n",
        "                        if len(parts) >= 10:\n",
        "                            category = parts[8].strip()\n",
        "                            difficult = parts[-1].strip()\n",
        "                            category_total[category] += 1\n",
        "                            if difficult == '1':\n",
        "                                category_difficult[category] += 1\n",
        "                    except Exception as e:\n",
        "                        print(f\"[ERROR] {file_name}: {e}\")"
      ]
    },
    {
      "cell_type": "code",
      "execution_count": null,
      "id": "dWTW3HBoI7Yh",
      "metadata": {
        "id": "dWTW3HBoI7Yh"
      },
      "outputs": [],
      "source": [
        "# Combine into DataFrame\n",
        "df_difficulty = pd.DataFrame({\n",
        "    'Category': category_total.keys(),\n",
        "    'Total': [category_total[c] for c in category_total],\n",
        "    'Difficult': [category_difficult.get(c, 0) for c in category_total]\n",
        "})\n",
        "\n",
        "# Add % column\n",
        "df_difficulty['Difficult %'] = (df_difficulty['Difficult'] / df_difficulty['Total']) * 100\n",
        "\n",
        "# Sort by descending % of difficulty\n",
        "df_difficulty = df_difficulty.sort_values(by='Difficult %', ascending=False)\n",
        "df_difficulty.reset_index(drop=True, inplace=True)\n",
        "df_difficulty.head()"
      ]
    },
    {
      "cell_type": "code",
      "execution_count": null,
      "id": "h5BNa_MiJ34X",
      "metadata": {
        "id": "h5BNa_MiJ34X"
      },
      "outputs": [],
      "source": [
        "# Plotting\n",
        "plt.figure(figsize=(10, 6))\n",
        "bars = plt.barh(df_difficulty['Category'], df_difficulty['Difficult %'], color='tomato')\n",
        "plt.xlabel('% Difficult Annotations', fontsize=12)\n",
        "plt.title('Percentage of Difficult Annotations per Category', fontsize=14)\n",
        "\n",
        "# Add text labels to bars\n",
        "for bar in bars:\n",
        "    width = bar.get_width()\n",
        "    plt.text(width + 0.5, bar.get_y() + bar.get_height()/2,\n",
        "             f'{width:.1f}%', va='center', fontsize=10)\n",
        "\n",
        "plt.gca().invert_yaxis()  # highest % on top\n",
        "plt.tight_layout()\n",
        "plt.show()"
      ]
    },
    {
      "cell_type": "markdown",
      "id": "XAk2gjNuLOUn",
      "metadata": {
        "id": "XAk2gjNuLOUn",
        "jp-MarkdownHeadingCollapsed": true
      },
      "source": [
        "## 3.3 Object Bounding Box Sizes Per Category"
      ]
    },
    {
      "cell_type": "code",
      "execution_count": null,
      "id": "mzm6HqnfLizn",
      "metadata": {
        "id": "mzm6HqnfLizn"
      },
      "outputs": [],
      "source": [
        "# Shoelace formula for quadrilateral area\n",
        "def polygon_area(x, y):\n",
        "    return 0.5 * abs(sum(x[i]*y[(i+1)%4] - x[(i+1)%4]*y[i] for i in range(4)))\n",
        "\n",
        "# Collect areas per category\n",
        "category_areas = defaultdict(list)\n",
        "\n",
        "with ZipFile(zip_path, 'r') as zip_file:\n",
        "    for file_name in zip_file.namelist():\n",
        "        if file_name.endswith('.txt'):\n",
        "            with zip_file.open(file_name) as file:\n",
        "                for line in file:\n",
        "                    try:\n",
        "                        parts = line.decode('utf-8').strip().split()\n",
        "                        if len(parts) >= 10:\n",
        "                            x_coords = list(map(float, parts[0:8:2]))  # x1, x2, x3, x4\n",
        "                            y_coords = list(map(float, parts[1:8:2]))  # y1, y2, y3, y4\n",
        "                            area = polygon_area(x_coords, y_coords)\n",
        "                            category = parts[8].strip()\n",
        "                            category_areas[category].append(area)\n",
        "                    except Exception as e:\n",
        "                        print(f\"[ERROR] {file_name}: {e}\")"
      ]
    },
    {
      "cell_type": "code",
      "execution_count": null,
      "id": "CIy8a76kQa_F",
      "metadata": {
        "id": "CIy8a76kQa_F"
      },
      "outputs": [],
      "source": [
        "# Flatten into long-form DataFrame\n",
        "records = []\n",
        "for category, areas in category_areas.items():\n",
        "    for area in areas:\n",
        "        records.append({'Category': category, 'Area': area})\n",
        "\n",
        "df_area = pd.DataFrame(records)"
      ]
    },
    {
      "cell_type": "code",
      "execution_count": null,
      "id": "pI1Y0hsnQe9W",
      "metadata": {
        "id": "pI1Y0hsnQe9W"
      },
      "outputs": [],
      "source": [
        "# Plotting\n",
        "plt.figure(figsize=(12, 6))\n",
        "sorted_categories = df_area.groupby(\"Category\")[\"Area\"].median().sort_values(ascending=False).index\n",
        "df_area_sorted = df_area.copy()\n",
        "df_area_sorted[\"Category\"] = pd.Categorical(df_area_sorted[\"Category\"], categories=sorted_categories)\n",
        "\n",
        "plt.boxplot(\n",
        "    [df_area_sorted[df_area_sorted[\"Category\"] == cat][\"Area\"] for cat in sorted_categories],\n",
        "    tick_labels=sorted_categories,\n",
        "    showfliers=False,\n",
        "    vert=False\n",
        ")\n",
        "\n",
        "# Add text labels to bars\n",
        "plt.xlabel(\"Bounding Box Area\")\n",
        "plt.title(\"Object Bounding Box Sizes per Category (Boxplot)\")\n",
        "plt.tight_layout()\n",
        "plt.show()"
      ]
    },
    {
      "cell_type": "markdown",
      "id": "1b92f34dbb08d2e2",
      "metadata": {
        "collapsed": false,
        "id": "1b92f34dbb08d2e2",
        "jupyter": {
          "outputs_hidden": false
        }
      },
      "source": [
        "# 4 Modelling"
      ]
    },
    {
      "cell_type": "markdown",
      "id": "f4afff28-f036-4ca1-ad95-f73fe84325ea",
      "metadata": {
        "collapsed": false,
        "id": "f4afff28-f036-4ca1-ad95-f73fe84325ea",
        "jupyter": {
          "outputs_hidden": false
        }
      },
      "source": [
        "## 4.3 Faster Region-based Convolutional Neural Network (Faster RCNN)"
      ]
    },
    {
      "cell_type": "markdown",
      "id": "b08d0a95-5359-4074-a755-46a2450030fe",
      "metadata": {
        "id": "b08d0a95-5359-4074-a755-46a2450030fe"
      },
      "source": [
        "### 4.3.1 Summary of Faster RCNN"
      ]
    },
    {
      "cell_type": "code",
      "execution_count": null,
      "id": "bee12c3a-1457-409b-9847-b2af08ae8222",
      "metadata": {
        "colab": {
          "base_uri": "https://localhost:8080/"
        },
        "id": "bee12c3a-1457-409b-9847-b2af08ae8222",
        "outputId": "09d409c2-74e2-4e4b-a427-38503b979245"
      },
      "outputs": [
        {
          "name": "stdout",
          "output_type": "stream",
          "text": [
            "load from local model: ../models\\fasterrcnn_v3.pth\n"
          ]
        }
      ],
      "source": [
        "# Faster-RCNN model\n",
        "faster_rcnn = modeling_faster_rcnn.load_model(\n",
        "    model_name='fasterrcnn_v13.pth',\n",
        "    # init=True,\n",
        "    root=MODEL_ROOT_DIR,\n",
        ")"
      ]
    },
    {
      "cell_type": "markdown",
      "id": "aa78e2de-e683-4a13-9f9d-2d53215b1740",
      "metadata": {
        "id": "aa78e2de-e683-4a13-9f9d-2d53215b1740"
      },
      "source": [
        "### 4.3.2 Model Training and Evaluation"
      ]
    },
    {
      "cell_type": "code",
      "execution_count": null,
      "id": "f3fc150c-2b9d-4ded-9852-0d6caf009f56",
      "metadata": {
        "colab": {
          "base_uri": "https://localhost:8080/"
        },
        "id": "f3fc150c-2b9d-4ded-9852-0d6caf009f56",
        "outputId": "3eab3611-0e9e-4239-bcdf-a38ec2108e8d"
      },
      "outputs": [
        {
          "name": "stdout",
          "output_type": "stream",
          "text": [
            "training faster-rcnn model\n",
            "training interrupt: All bounding boxes should have positive height and width. Found invalid box [324.74884033203125, 683.2000122070312, 324.74884033203125, 702.4000244140625] for target at index 0.\n"
          ]
        }
      ],
      "source": [
        "# Data Loader for Faster-RCNN\n",
        "faster_rcnn_data_loader = data_loader.faster_rcnn_data_loader(\n",
        "    image_dir=os.path.join(DATASET_ROOT_DIR, 'tiny_train/images'),\n",
        "    label_dir=os.path.join(DATASET_ROOT_DIR, 'tiny_train/labels'),\n",
        "    batch_size=20,\n",
        "    num_workers=3,\n",
        ")\n",
        "for i in range(14, 20):\n",
        "  # Train Faster-RCNN model\n",
        "  modeling_faster_rcnn.train_model(\n",
        "      faster_rcnn,\n",
        "      data_loader=faster_rcnn_data_loader,\n",
        "      epochs=2,\n",
        "  )\n",
        "  # Save Faster-RCNN model\n",
        "  modeling_faster_rcnn.save_model(\n",
        "      faster_rcnn,\n",
        "      version=i,\n",
        "      model_path=MODEL_ROOT_DIR,\n",
        "  )\n",
        "  # Predict and Visualize the results\n",
        "  modeling_faster_rcnn.predict(\n",
        "      faster_rcnn,\n",
        "      image_path=os.path.join(DATASET_ROOT_DIR, 'tiny_train/images/P0002.png'),\n",
        "      confidence_threshold=0.1,\n",
        "      saved_img_path=os.path.join(DATASET_ROOT_DIR, 'tiny_train/results/P0002_v{i}.png')\n",
        "  )"
      ]
    },
    {
      "cell_type": "code",
      "execution_count": null,
      "id": "eWUO78KAqSW4",
      "metadata": {
        "id": "eWUO78KAqSW4"
      },
      "outputs": [],
      "source": [
        "# faster_rcnn = None\n",
        "# faster_rcnn_data_loader = None\n",
        "import gc\n",
        "import torch\n",
        "\n",
        "gc.collect()\n",
        "if torch.cuda.is_available():\n",
        "  torch.cuda.empty_cache()"
      ]
    },
    {
      "cell_type": "code",
      "execution_count": null,
      "id": "e-iFOHWrlU-U",
      "metadata": {
        "id": "e-iFOHWrlU-U"
      },
      "outputs": [],
      "source": [
        "# Save Faster-RCNN model\n",
        "modeling_faster_rcnn.save_model(\n",
        "    faster_rcnn,\n",
        "    version=14,\n",
        "    model_path=MODEL_ROOT_DIR,\n",
        ")"
      ]
    },
    {
      "cell_type": "markdown",
      "id": "a7a056ce-a5bb-4746-8a3d-62a8b93dd7e9",
      "metadata": {
        "id": "a7a056ce-a5bb-4746-8a3d-62a8b93dd7e9"
      },
      "source": [
        "### 4.3.3 Results and Discussion"
      ]
    },
    {
      "cell_type": "code",
      "execution_count": null,
      "id": "d8dc002a-5cce-4f52-a1aa-0d8941cc9201",
      "metadata": {
        "id": "d8dc002a-5cce-4f52-a1aa-0d8941cc9201"
      },
      "outputs": [],
      "source": [
        "# Predict and Visualize the results\n",
        "modeling_faster_rcnn.predict(\n",
        "    faster_rcnn,\n",
        "    image_path='data/train/images/P0002.png',\n",
        "    confidence_threshold=0.1,\n",
        ")"
      ]
    },
    {
      "cell_type": "markdown",
      "id": "57bc53d819eb372b",
      "metadata": {
        "collapsed": false,
        "id": "57bc53d819eb372b",
        "jupyter": {
          "outputs_hidden": false
        }
      },
      "source": [
        "# 5 Evaluation"
      ]
    },
    {
      "cell_type": "code",
      "execution_count": null,
      "id": "f579c822f4ca94cf",
      "metadata": {
        "id": "f579c822f4ca94cf",
        "jupyter": {
          "outputs_hidden": false
        }
      },
      "outputs": [],
      "source": []
    },
    {
      "cell_type": "markdown",
      "id": "54455f58e406850e",
      "metadata": {
        "collapsed": false,
        "id": "54455f58e406850e",
        "jupyter": {
          "outputs_hidden": false
        }
      },
      "source": [
        "# Summary"
      ]
    },
    {
      "cell_type": "code",
      "execution_count": null,
      "id": "9f55b63bb2831b94",
      "metadata": {
        "id": "9f55b63bb2831b94",
        "jupyter": {
          "outputs_hidden": false
        }
      },
      "outputs": [],
      "source": []
    }
  ],
  "metadata": {
    "accelerator": "GPU",
    "colab": {
      "gpuType": "T4",
      "provenance": [],
      "include_colab_link": true
    },
    "kernelspec": {
      "display_name": "Python 3",
      "name": "python3"
    },
    "language_info": {
      "codemirror_mode": {
        "name": "ipython",
        "version": 3
      },
      "file_extension": ".py",
      "mimetype": "text/x-python",
      "name": "python",
      "nbconvert_exporter": "python",
      "pygments_lexer": "ipython3",
      "version": "3.11.4"
    }
  },
  "nbformat": 4,
  "nbformat_minor": 5
}