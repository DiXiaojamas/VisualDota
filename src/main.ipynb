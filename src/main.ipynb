{
  "cells": [
    {
      "cell_type": "markdown",
      "metadata": {
        "id": "view-in-github",
        "colab_type": "text"
      },
      "source": [
        "<a href=\"https://colab.research.google.com/github/UoR-Vision/VisualDota/blob/main/src/main.ipynb\" target=\"_parent\"><img src=\"https://colab.research.google.com/assets/colab-badge.svg\" alt=\"Open In Colab\"/></a>"
      ]
    },
    {
      "cell_type": "raw",
      "id": "6b21c1234e2df588",
      "metadata": {
        "collapsed": false,
        "jupyter": {
          "outputs_hidden": false
        },
        "id": "6b21c1234e2df588"
      },
      "source": [
        "Module Code:  CSMA21\n",
        "\n",
        "Assignment report Title: Group coursework\n",
        "\n",
        "Date (when the work completed):\n",
        "\n",
        "Actual hrs spent for the assignment:"
      ]
    },
    {
      "cell_type": "markdown",
      "source": [
        "# Environment Setting"
      ],
      "metadata": {
        "id": "C3IMFqsWmI85"
      },
      "id": "C3IMFqsWmI85"
    },
    {
      "cell_type": "markdown",
      "source": [
        "***\n",
        "<a id=\"colab\"></a>\n",
        "## Adapting to the Colab Operating Environment\n",
        "\n",
        "In Colab environment, it is neccessary to download the whole project from Github."
      ],
      "metadata": {
        "id": "-_V307WVj3zz"
      },
      "id": "-_V307WVj3zz"
    },
    {
      "cell_type": "code",
      "source": [
        "def is_colab():\n",
        "    try:\n",
        "        import google.colab\n",
        "        return True\n",
        "    except ImportError:\n",
        "        return False\n",
        "\n",
        "if is_colab():\n",
        "    print(\"Running in Google Colab!\")\n",
        "    !git clone https://github.com/UoR-Vision/VisualDota.git -b main\n",
        "    %cd VisualDota/src\n",
        "else:\n",
        "    print(\"Not running in Colab.\")"
      ],
      "metadata": {
        "id": "WgPXbYDBj_u-",
        "outputId": "5e47aff4-350f-42d4-f1a6-a9e5f1b33f13",
        "colab": {
          "base_uri": "https://localhost:8080/"
        }
      },
      "id": "WgPXbYDBj_u-",
      "execution_count": 1,
      "outputs": [
        {
          "output_type": "stream",
          "name": "stdout",
          "text": [
            "Running in Google Colab!\n",
            "Cloning into 'VisualDota'...\n",
            "remote: Enumerating objects: 47, done.\u001b[K\n",
            "remote: Counting objects: 100% (9/9), done.\u001b[K\n",
            "remote: Compressing objects: 100% (9/9), done.\u001b[K\n",
            "remote: Total 47 (delta 2), reused 0 (delta 0), pack-reused 38 (from 2)\u001b[K\n",
            "Receiving objects: 100% (47/47), 114.31 MiB | 14.87 MiB/s, done.\n",
            "Resolving deltas: 100% (2/2), done.\n",
            "Updating files: 100% (29/29), done.\n",
            "/content/VisualDota/src\n"
          ]
        }
      ]
    },
    {
      "cell_type": "markdown",
      "id": "37ad3286b62586b",
      "metadata": {
        "collapsed": false,
        "jupyter": {
          "outputs_hidden": false
        },
        "id": "37ad3286b62586b"
      },
      "source": [
        "***\n",
        "<a id=\"hotload\"></a>\n",
        "## Hot Loading .py File\n",
        "\n",
        "Here is to import custom .py file. It can be hot-loaded, just re-run the following cell.\n",
        "\n",
        "Documentation comments are provided for each public function. To check the comments please use the help() function."
      ]
    },
    {
      "cell_type": "code",
      "execution_count": null,
      "id": "f66f6ad8b458fed7",
      "metadata": {
        "ExecuteTime": {
          "end_time": "2025-04-01T15:16:04.713470300Z",
          "start_time": "2025-04-01T15:16:04.704076300Z"
        },
        "jupyter": {
          "outputs_hidden": false
        },
        "id": "f66f6ad8b458fed7"
      },
      "outputs": [],
      "source": [
        "!pip install importlib\n",
        "import importlib  # for hot-loaded .py file\n",
        "\n",
        "try:\n",
        "    import data_process  # import custom methods for data pre-processing\n",
        "    import visual_utils  # import custom methods for visualization\n",
        "except ModuleNotFoundError as e:\n",
        "    print(f'[ERROR] fail to import a custom module at path: {os.path.abspath(\".\")}, msg: {e}.')\n",
        "except Exception as e:\n",
        "    print(f'[ERROR] fail to read module at path: {os.path.abspath(\".\")}, msg: {e}')\n",
        "else:\n",
        "    # Hot loading python files\n",
        "    importlib.reload(data_process)\n",
        "    importlib.reload(visual_utils)"
      ]
    },
    {
      "cell_type": "markdown",
      "id": "5c849f9f93566b2f",
      "metadata": {
        "collapsed": false,
        "jupyter": {
          "outputs_hidden": false
        },
        "id": "5c849f9f93566b2f"
      },
      "source": [
        "# Data Selection, Exploratory Data Analysis & Preprocessing"
      ]
    },
    {
      "cell_type": "markdown",
      "id": "bc841ed043ba5470",
      "metadata": {
        "collapsed": false,
        "jupyter": {
          "outputs_hidden": false
        },
        "id": "bc841ed043ba5470"
      },
      "source": [
        "***\n",
        "<a id=\"import\"></a>\n",
        "## Import libraries\n",
        "\n",
        "To import the required libraries for whole project."
      ]
    },
    {
      "cell_type": "code",
      "execution_count": null,
      "id": "ae09c6165ced97ec",
      "metadata": {
        "ExecuteTime": {
          "end_time": "2025-04-01T15:14:34.624413600Z",
          "start_time": "2025-04-01T15:14:34.245560900Z"
        },
        "jupyter": {
          "outputs_hidden": false
        },
        "id": "ae09c6165ced97ec"
      },
      "outputs": [],
      "source": [
        "# import the build-in required libraries\n",
        "import os\n",
        "import warnings\n",
        "\n",
        "# import the third-part required libraries\n",
        "import matplotlib\n",
        "import matplotlib.pyplot as plt\n",
        "import numpy as np\n",
        "\n",
        "# check the versions of third-part libraries\n",
        "print(f'matplotlib: {matplotlib.__version__}, numpy: {np.__version__}')"
      ]
    },
    {
      "cell_type": "markdown",
      "id": "e0ca65af54083cdc",
      "metadata": {
        "collapsed": false,
        "jupyter": {
          "outputs_hidden": false
        },
        "id": "e0ca65af54083cdc"
      },
      "source": [
        "# 2 Data Selection & Preprocessing"
      ]
    },
    {
      "cell_type": "code",
      "source": [],
      "metadata": {
        "id": "xWiLtK_zcWXw"
      },
      "id": "xWiLtK_zcWXw",
      "execution_count": null,
      "outputs": []
    },
    {
      "cell_type": "markdown",
      "id": "fbc146af876d922b",
      "metadata": {
        "collapsed": false,
        "jupyter": {
          "outputs_hidden": false
        },
        "id": "fbc146af876d922b"
      },
      "source": [
        "## Load Dataset"
      ]
    },
    {
      "cell_type": "code",
      "execution_count": null,
      "id": "1852e7c96b7288f1",
      "metadata": {
        "ExecuteTime": {
          "end_time": "2025-04-01T15:18:20.879936800Z",
          "start_time": "2025-04-01T15:18:19.722733700Z"
        },
        "jupyter": {
          "outputs_hidden": false
        },
        "id": "1852e7c96b7288f1"
      },
      "outputs": [],
      "source": [
        "dataset = data_process.load_dataset()\n",
        "len(dataset)"
      ]
    },
    {
      "cell_type": "code",
      "execution_count": null,
      "id": "c767d757e795e552",
      "metadata": {
        "ExecuteTime": {
          "start_time": "2025-04-01T15:18:50.581776900Z"
        },
        "is_executing": true,
        "jupyter": {
          "outputs_hidden": false
        },
        "id": "c767d757e795e552"
      },
      "outputs": [],
      "source": [
        "visual_utils.visualize_images(dataset)"
      ]
    },
    {
      "cell_type": "code",
      "execution_count": null,
      "id": "713a1c38ece97b7c",
      "metadata": {
        "ExecuteTime": {
          "end_time": "2025-04-01T15:18:27.856630300Z",
          "start_time": "2025-04-01T15:18:27.839810800Z"
        },
        "jupyter": {
          "outputs_hidden": false
        },
        "id": "713a1c38ece97b7c"
      },
      "outputs": [],
      "source": [
        "labels = data_process.count_labels()\n",
        "labels"
      ]
    },
    {
      "cell_type": "markdown",
      "source": [
        "# 3 Exploratory data analysis"
      ],
      "metadata": {
        "id": "PUV2v_YRWLDR"
      },
      "id": "PUV2v_YRWLDR"
    },
    {
      "cell_type": "markdown",
      "id": "1b92f34dbb08d2e2",
      "metadata": {
        "collapsed": false,
        "jupyter": {
          "outputs_hidden": false
        },
        "id": "1b92f34dbb08d2e2"
      },
      "source": [
        "# Modelling"
      ]
    },
    {
      "cell_type": "code",
      "execution_count": null,
      "id": "337fe8de14914dfa",
      "metadata": {
        "jupyter": {
          "outputs_hidden": false
        },
        "id": "337fe8de14914dfa"
      },
      "outputs": [],
      "source": []
    },
    {
      "cell_type": "markdown",
      "id": "57bc53d819eb372b",
      "metadata": {
        "collapsed": false,
        "jupyter": {
          "outputs_hidden": false
        },
        "id": "57bc53d819eb372b"
      },
      "source": [
        "# Evaluation"
      ]
    },
    {
      "cell_type": "code",
      "execution_count": null,
      "id": "f579c822f4ca94cf",
      "metadata": {
        "jupyter": {
          "outputs_hidden": false
        },
        "id": "f579c822f4ca94cf"
      },
      "outputs": [],
      "source": []
    },
    {
      "cell_type": "markdown",
      "id": "54455f58e406850e",
      "metadata": {
        "collapsed": false,
        "jupyter": {
          "outputs_hidden": false
        },
        "id": "54455f58e406850e"
      },
      "source": [
        "# Summary"
      ]
    },
    {
      "cell_type": "code",
      "execution_count": null,
      "id": "9f55b63bb2831b94",
      "metadata": {
        "jupyter": {
          "outputs_hidden": false
        },
        "id": "9f55b63bb2831b94"
      },
      "outputs": [],
      "source": []
    }
  ],
  "metadata": {
    "kernelspec": {
      "display_name": "Python 3 (ipykernel)",
      "language": "python",
      "name": "python3"
    },
    "language_info": {
      "codemirror_mode": {
        "name": "ipython",
        "version": 3
      },
      "file_extension": ".py",
      "mimetype": "text/x-python",
      "name": "python",
      "nbconvert_exporter": "python",
      "pygments_lexer": "ipython3",
      "version": "3.11.4"
    },
    "colab": {
      "provenance": [],
      "include_colab_link": true
    }
  },
  "nbformat": 4,
  "nbformat_minor": 5
}